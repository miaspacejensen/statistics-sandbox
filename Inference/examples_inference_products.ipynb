{
 "cells": [
  {
   "cell_type": "code",
   "execution_count": 1,
   "id": "b9e29ecd",
   "metadata": {},
   "outputs": [],
   "source": [
    "import pandas as pd\n",
    "import numpy as np\n",
    "\n",
    "# import custom module\n",
    "import sys\n",
    "sys.path.append('../Modules')\n",
    "import inference as inf\n",
    "\n",
    "import warnings\n",
    "warnings.filterwarnings(\"ignore\")"
   ]
  },
  {
   "cell_type": "markdown",
   "id": "d1f0ecdc",
   "metadata": {},
   "source": [
    "**Scenario**: A company is testing a new version of a specific software. They are analysing the average time taken for a task to change from \"In Progress\" to \"Complete\" across various development teams."
   ]
  },
  {
   "cell_type": "code",
   "execution_count": 2,
   "id": "2ef36c4d",
   "metadata": {},
   "outputs": [],
   "source": [
    "# Inference on the mean when the variance is known"
   ]
  },
  {
   "cell_type": "code",
   "execution_count": null,
   "id": "498c41ba",
   "metadata": {},
   "outputs": [
    {
     "data": {
      "text/plain": [
       "array([4.14425588, 5.65516141, 4.92847237, 5.82614008, 4.35395514,\n",
       "       6.04243205, 6.19652926, 4.38584723, 5.77317707, 3.97756584,\n",
       "       5.75031898, 6.24846177, 6.17212288, 3.69957021, 5.1316125 ,\n",
       "       2.98532014, 5.10001009, 5.07201779, 6.05690579, 4.90762966,\n",
       "       6.43470951, 5.91768635, 2.8702263 , 4.16769321, 5.36131245,\n",
       "       4.22659228, 5.22021666, 4.30062097, 7.71277078, 4.22195229,\n",
       "       5.26564366, 6.45836605, 4.63578911, 5.31545208, 5.89046016,\n",
       "       4.80956277, 5.68654615, 6.63147031, 5.29341981, 4.25738468,\n",
       "       4.23347586, 5.42599709, 4.15485697, 5.70162295, 3.62760002,\n",
       "       3.40089774, 6.5486969 , 4.58639944, 6.19106115, 2.93860632,\n",
       "       2.73189204, 5.6805311 , 5.11650807, 4.86079385, 4.47974495,\n",
       "       5.32840114, 6.33228803, 3.92720453, 6.18633995, 3.89393012,\n",
       "       4.384332  , 5.19323134, 5.81012422, 5.98497747, 5.49556155,\n",
       "       4.45829461, 4.49429795, 5.69553736, 4.61414682, 5.34702593,\n",
       "       6.48512382, 4.32811157, 4.41848511, 5.63665091, 4.99112257,\n",
       "       4.37118193, 4.75926362, 5.20292414, 4.78298581, 5.70293426,\n",
       "       2.82952285, 4.07032469, 4.33740882, 4.94648285, 5.80218601,\n",
       "       5.05207721, 4.83621131, 4.14950927, 4.85672557, 3.03905027,\n",
       "       5.27500488, 4.39604951, 3.91020069, 4.99912387, 4.84864912,\n",
       "       4.84299811, 4.28554964, 5.02664449, 4.50769913, 4.1865867 ])"
      ]
     },
     "execution_count": 3,
     "metadata": {},
     "output_type": "execute_result"
    }
   ],
   "source": [
    "# normal data \n",
    "variance = 1\n",
    "sample_size = 100\n",
    "mean_task_time = np.random.normal(loc=5, scale=np.sqrt(variance), size=sample_size)\n",
    "mean_task_time "
   ]
  },
  {
   "cell_type": "code",
   "execution_count": null,
   "id": "f5cf534d",
   "metadata": {},
   "outputs": [],
   "source": [
    "z_test_known_variance(sample_data, population_mean, known_variance)"
   ]
  },
  {
   "cell_type": "markdown",
   "id": "a51e5be3",
   "metadata": {},
   "source": [
    "**Scenario**: A company is evaluating customer satisfaction scores for a specific software after a new feature release. They want to assess the average change in satisfaction score."
   ]
  },
  {
   "cell_type": "code",
   "execution_count": null,
   "id": "64757027",
   "metadata": {},
   "outputs": [],
   "source": []
  },
  {
   "cell_type": "markdown",
   "id": "d3122c5a",
   "metadata": {},
   "source": [
    "**Scenario**: A company aims to assess the variability in downtime incidents logged by a specific service during a major update roll-out."
   ]
  },
  {
   "cell_type": "code",
   "execution_count": null,
   "id": "6d9dc47c",
   "metadata": {},
   "outputs": [],
   "source": []
  },
  {
   "cell_type": "markdown",
   "id": "0f5aab0b",
   "metadata": {},
   "source": [
    "**Scenario**: A company compares a specific software's task handling times between two regions, North America and Europe, to see if the average time differs."
   ]
  },
  {
   "cell_type": "code",
   "execution_count": null,
   "id": "d8201aee",
   "metadata": {},
   "outputs": [],
   "source": []
  },
  {
   "cell_type": "markdown",
   "id": "4f7b9fb2",
   "metadata": {},
   "source": [
    "**Scenario**: A company tests whether developer productivity has improved after integrating an AI feature in a specific software for code suggestions. Developers are tested before and after the implementation."
   ]
  },
  {
   "cell_type": "code",
   "execution_count": null,
   "id": "0514a2fa",
   "metadata": {},
   "outputs": [],
   "source": []
  },
  {
   "cell_type": "markdown",
   "id": "6753c95d",
   "metadata": {},
   "source": [
    "**Scenario**: A company evaluates stability by comparing the variance in response times of their help desk tickets before and after a process optimisation."
   ]
  },
  {
   "cell_type": "code",
   "execution_count": null,
   "id": "6f9269e4",
   "metadata": {},
   "outputs": [],
   "source": []
  }
 ],
 "metadata": {
  "kernelspec": {
   "display_name": "Python_3_11_11",
   "language": "python",
   "name": "python3"
  },
  "language_info": {
   "codemirror_mode": {
    "name": "ipython",
    "version": 3
   },
   "file_extension": ".py",
   "mimetype": "text/x-python",
   "name": "python",
   "nbconvert_exporter": "python",
   "pygments_lexer": "ipython3",
   "version": "3.11.11"
  }
 },
 "nbformat": 4,
 "nbformat_minor": 5
}

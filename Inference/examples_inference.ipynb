{
 "cells": [
  {
   "cell_type": "code",
   "execution_count": 10,
   "id": "b9e29ecd",
   "metadata": {},
   "outputs": [],
   "source": [
    "import pandas as pd\n",
    "import numpy as np\n",
    "\n",
    "# import custom module\n",
    "import sys\n",
    "sys.path.append('../Modules')\n",
    "import inference as inf\n",
    "\n",
    "import warnings\n",
    "warnings.filterwarnings(\"ignore\")"
   ]
  },
  {
   "cell_type": "markdown",
   "id": "d1f0ecdc",
   "metadata": {},
   "source": [
    "**Scenario**: A manager wants to evaluate the average response time to customer emails. The company has historically recorded the variance in response times as 10 minutes². Using recent sample data of response times, the manager calculates whether the average response time meets the company's target of 30 minutes.\n",
    "\n",
    "**Practical Use**: Ensuring that customer response times meet service level agreements and identifying areas for improvement."
   ]
  },
  {
   "cell_type": "code",
   "execution_count": 11,
   "id": "d7da58e2",
   "metadata": {},
   "outputs": [
    {
     "data": {
      "text/html": [
       "<div>\n",
       "<style scoped>\n",
       "    .dataframe tbody tr th:only-of-type {\n",
       "        vertical-align: middle;\n",
       "    }\n",
       "\n",
       "    .dataframe tbody tr th {\n",
       "        vertical-align: top;\n",
       "    }\n",
       "\n",
       "    .dataframe thead th {\n",
       "        text-align: right;\n",
       "    }\n",
       "</style>\n",
       "<table border=\"1\" class=\"dataframe\">\n",
       "  <thead>\n",
       "    <tr style=\"text-align: right;\">\n",
       "      <th></th>\n",
       "      <th>Response Time (mins)</th>\n",
       "    </tr>\n",
       "  </thead>\n",
       "  <tbody>\n",
       "    <tr>\n",
       "      <th>0</th>\n",
       "      <td>27.231444</td>\n",
       "    </tr>\n",
       "    <tr>\n",
       "      <th>1</th>\n",
       "      <td>35.366582</td>\n",
       "    </tr>\n",
       "    <tr>\n",
       "      <th>2</th>\n",
       "      <td>30.969213</td>\n",
       "    </tr>\n",
       "    <tr>\n",
       "      <th>3</th>\n",
       "      <td>34.928073</td>\n",
       "    </tr>\n",
       "    <tr>\n",
       "      <th>4</th>\n",
       "      <td>33.896805</td>\n",
       "    </tr>\n",
       "  </tbody>\n",
       "</table>\n",
       "</div>"
      ],
      "text/plain": [
       "   Response Time (mins)\n",
       "0             27.231444\n",
       "1             35.366582\n",
       "2             30.969213\n",
       "3             34.928073\n",
       "4             33.896805"
      ]
     },
     "metadata": {},
     "output_type": "display_data"
    }
   ],
   "source": [
    "# Inference on the mean when the variance is known\n",
    "n = 50 \n",
    "df = pd.DataFrame({\n",
    "    'Response Time (mins)': np.random.normal(loc=32, scale=np.sqrt(10), size=n)\n",
    "})\n",
    "display(df.head())"
   ]
  },
  {
   "cell_type": "code",
   "execution_count": 12,
   "id": "63c5d97f",
   "metadata": {},
   "outputs": [],
   "source": [
    "mean = df[\"Response Time (mins)\"].mean()\n",
    "var = df[\"Response Time (mins)\"].var()"
   ]
  },
  {
   "cell_type": "code",
   "execution_count": 13,
   "id": "498c41ba",
   "metadata": {},
   "outputs": [
    {
     "name": "stdout",
     "output_type": "stream",
     "text": [
      "Z Score: 0.0\n",
      "p-value: 1.0\n"
     ]
    }
   ],
   "source": [
    "z_score, p_value = inf.z_test_known_variance(df, population_mean=mean, known_variance=var)\n",
    "print(\"Z Score:\", z_score)\n",
    "print(\"p-value:\", p_value)"
   ]
  },
  {
   "cell_type": "markdown",
   "id": "a51e5be3",
   "metadata": {},
   "source": [
    "**Scenario**: A project manager assesses the average number of tasks completed by employees per week. As the variance in task completion is not well-documented, the manager samples current data to infer the population mean and determine if productivity has changed due to a new workflow system.\n",
    "\n",
    "**Practical Use**: Evaluating the effectiveness of new processes and setting realistic productivity expectations."
   ]
  },
  {
   "cell_type": "code",
   "execution_count": 14,
   "id": "e463e52d",
   "metadata": {},
   "outputs": [
    {
     "data": {
      "text/html": [
       "<div>\n",
       "<style scoped>\n",
       "    .dataframe tbody tr th:only-of-type {\n",
       "        vertical-align: middle;\n",
       "    }\n",
       "\n",
       "    .dataframe tbody tr th {\n",
       "        vertical-align: top;\n",
       "    }\n",
       "\n",
       "    .dataframe thead th {\n",
       "        text-align: right;\n",
       "    }\n",
       "</style>\n",
       "<table border=\"1\" class=\"dataframe\">\n",
       "  <thead>\n",
       "    <tr style=\"text-align: right;\">\n",
       "      <th></th>\n",
       "      <th>Tasks Completed</th>\n",
       "    </tr>\n",
       "  </thead>\n",
       "  <tbody>\n",
       "    <tr>\n",
       "      <th>0</th>\n",
       "      <td>26.050377</td>\n",
       "    </tr>\n",
       "    <tr>\n",
       "      <th>1</th>\n",
       "      <td>25.757384</td>\n",
       "    </tr>\n",
       "    <tr>\n",
       "      <th>2</th>\n",
       "      <td>28.801116</td>\n",
       "    </tr>\n",
       "    <tr>\n",
       "      <th>3</th>\n",
       "      <td>26.583480</td>\n",
       "    </tr>\n",
       "    <tr>\n",
       "      <th>4</th>\n",
       "      <td>21.654541</td>\n",
       "    </tr>\n",
       "  </tbody>\n",
       "</table>\n",
       "</div>"
      ],
      "text/plain": [
       "   Tasks Completed\n",
       "0        26.050377\n",
       "1        25.757384\n",
       "2        28.801116\n",
       "3        26.583480\n",
       "4        21.654541"
      ]
     },
     "metadata": {},
     "output_type": "display_data"
    }
   ],
   "source": [
    "# Inference on the mean when the variance is unknown\n",
    "n = 30\n",
    "df = pd.DataFrame({\n",
    "    'Tasks Completed': np.random.normal(loc=28, scale=4, size=n) # Sample mean of 28, SD unknown\n",
    "})\n",
    "display(df.head())"
   ]
  },
  {
   "cell_type": "code",
   "execution_count": 15,
   "id": "8039004f",
   "metadata": {},
   "outputs": [],
   "source": [
    "mean = df[\"Tasks Completed\"].mean()"
   ]
  },
  {
   "cell_type": "code",
   "execution_count": 16,
   "id": "1e89a4a5",
   "metadata": {},
   "outputs": [
    {
     "name": "stdout",
     "output_type": "stream",
     "text": [
      "t Score: Tasks Completed    0.0\n",
      "dtype: float64\n",
      "p-value: 1.0\n"
     ]
    }
   ],
   "source": [
    "t_score, p_value = inf.t_test_unknown_variance(df, population_mean=mean)\n",
    "print(\"t Score:\", t_score)\n",
    "print(\"p-value:\", p_value)"
   ]
  },
  {
   "cell_type": "markdown",
   "id": "d3122c5a",
   "metadata": {},
   "source": [
    "**Scenario**: An operations analyst examines the consistency of daily report generation times. If the variance in report generation time increases beyond acceptable levels, it may indicate inefficiencies or technical issues.\n",
    "\n",
    "**Practical Use**: Identifying process inconsistencies and potential operational bottlenecks requiring attention."
   ]
  },
  {
   "cell_type": "code",
   "execution_count": 17,
   "id": "2d35a726",
   "metadata": {},
   "outputs": [
    {
     "data": {
      "text/html": [
       "<div>\n",
       "<style scoped>\n",
       "    .dataframe tbody tr th:only-of-type {\n",
       "        vertical-align: middle;\n",
       "    }\n",
       "\n",
       "    .dataframe tbody tr th {\n",
       "        vertical-align: top;\n",
       "    }\n",
       "\n",
       "    .dataframe thead th {\n",
       "        text-align: right;\n",
       "    }\n",
       "</style>\n",
       "<table border=\"1\" class=\"dataframe\">\n",
       "  <thead>\n",
       "    <tr style=\"text-align: right;\">\n",
       "      <th></th>\n",
       "      <th>Report Generation Time (mins)</th>\n",
       "    </tr>\n",
       "  </thead>\n",
       "  <tbody>\n",
       "    <tr>\n",
       "      <th>0</th>\n",
       "      <td>7.818400</td>\n",
       "    </tr>\n",
       "    <tr>\n",
       "      <th>1</th>\n",
       "      <td>9.546044</td>\n",
       "    </tr>\n",
       "    <tr>\n",
       "      <th>2</th>\n",
       "      <td>9.278505</td>\n",
       "    </tr>\n",
       "    <tr>\n",
       "      <th>3</th>\n",
       "      <td>9.502205</td>\n",
       "    </tr>\n",
       "    <tr>\n",
       "      <th>4</th>\n",
       "      <td>11.887771</td>\n",
       "    </tr>\n",
       "  </tbody>\n",
       "</table>\n",
       "</div>"
      ],
      "text/plain": [
       "   Report Generation Time (mins)\n",
       "0                       7.818400\n",
       "1                       9.546044\n",
       "2                       9.278505\n",
       "3                       9.502205\n",
       "4                      11.887771"
      ]
     },
     "metadata": {},
     "output_type": "display_data"
    }
   ],
   "source": [
    "# Inference on the variance or standard deviation\n",
    "n = 40\n",
    "df = pd.DataFrame({\n",
    "    'Report Generation Time (mins)': np.random.normal(loc=10, scale=3, size=n)\n",
    "})\n",
    "display(df.head())"
   ]
  },
  {
   "cell_type": "code",
   "execution_count": 18,
   "id": "711e2970",
   "metadata": {},
   "outputs": [
    {
     "name": "stdout",
     "output_type": "stream",
     "text": [
      "Chi-squared Statistic: Report Generation Time (mins)    923.487416\n",
      "dtype: float64\n",
      "p-value: [0.]\n"
     ]
    }
   ],
   "source": [
    "chi_square_stat, p_value = inf.chi_square_variance_test(df, hypothesized_variance=0.25)\n",
    "print(\"Chi-squared Statistic:\", chi_square_stat)\n",
    "print(\"p-value:\", p_value)"
   ]
  },
  {
   "cell_type": "markdown",
   "id": "0f5aab0b",
   "metadata": {},
   "source": [
    "**Scenario**: A human resources coordinator compares the average hours worked per week between two departments. Assuming similar variability in work hours, this comparison helps determine if one department is potentially overburdened.\n",
    "\n",
    "**Practical Use**: Ensuring fair workload distribution across departments and maintaining employee satisfaction."
   ]
  },
  {
   "cell_type": "code",
   "execution_count": 19,
   "id": "c80623fd",
   "metadata": {},
   "outputs": [
    {
     "data": {
      "text/html": [
       "<div>\n",
       "<style scoped>\n",
       "    .dataframe tbody tr th:only-of-type {\n",
       "        vertical-align: middle;\n",
       "    }\n",
       "\n",
       "    .dataframe tbody tr th {\n",
       "        vertical-align: top;\n",
       "    }\n",
       "\n",
       "    .dataframe thead th {\n",
       "        text-align: right;\n",
       "    }\n",
       "</style>\n",
       "<table border=\"1\" class=\"dataframe\">\n",
       "  <thead>\n",
       "    <tr style=\"text-align: right;\">\n",
       "      <th></th>\n",
       "      <th>Dept A</th>\n",
       "      <th>Dept B</th>\n",
       "    </tr>\n",
       "  </thead>\n",
       "  <tbody>\n",
       "    <tr>\n",
       "      <th>0</th>\n",
       "      <td>42.052414</td>\n",
       "      <td>35.575648</td>\n",
       "    </tr>\n",
       "    <tr>\n",
       "      <th>1</th>\n",
       "      <td>37.226937</td>\n",
       "      <td>38.146633</td>\n",
       "    </tr>\n",
       "    <tr>\n",
       "      <th>2</th>\n",
       "      <td>45.811075</td>\n",
       "      <td>38.050858</td>\n",
       "    </tr>\n",
       "    <tr>\n",
       "      <th>3</th>\n",
       "      <td>37.720732</td>\n",
       "      <td>46.219098</td>\n",
       "    </tr>\n",
       "    <tr>\n",
       "      <th>4</th>\n",
       "      <td>34.233830</td>\n",
       "      <td>39.741047</td>\n",
       "    </tr>\n",
       "  </tbody>\n",
       "</table>\n",
       "</div>"
      ],
      "text/plain": [
       "      Dept A     Dept B\n",
       "0  42.052414  35.575648\n",
       "1  37.226937  38.146633\n",
       "2  45.811075  38.050858\n",
       "3  37.720732  46.219098\n",
       "4  34.233830  39.741047"
      ]
     },
     "metadata": {},
     "output_type": "display_data"
    }
   ],
   "source": [
    "# Inference on the means of two samples when their standard deviations are unknown\n",
    "# The Common Variance Case\n",
    "\n",
    "n = 35\n",
    "df = pd.DataFrame({\n",
    "    'Dept A': np.random.normal(loc=40, scale=5, size=n),\n",
    "    'Dept B': np.random.normal(loc=42, scale=5, size=n)\n",
    "})\n",
    "display(df.head())"
   ]
  },
  {
   "cell_type": "code",
   "execution_count": null,
   "id": "e1b15148",
   "metadata": {},
   "outputs": [],
   "source": []
  },
  {
   "cell_type": "markdown",
   "id": "4f7b9fb2",
   "metadata": {},
   "source": [
    "**Scenario**: A marketer measures employee engagement levels before and after implementing a new office layout intended to promote collaboration. Each employee's engagement score is recorded before and after the change.\n",
    "\n",
    "**Practical Use**: Evaluating the effectiveness of workplace environment changes on employee engagement and morale."
   ]
  },
  {
   "cell_type": "code",
   "execution_count": null,
   "id": "773f20b5",
   "metadata": {},
   "outputs": [
    {
     "data": {
      "text/html": [
       "<div>\n",
       "<style scoped>\n",
       "    .dataframe tbody tr th:only-of-type {\n",
       "        vertical-align: middle;\n",
       "    }\n",
       "\n",
       "    .dataframe tbody tr th {\n",
       "        vertical-align: top;\n",
       "    }\n",
       "\n",
       "    .dataframe thead th {\n",
       "        text-align: right;\n",
       "    }\n",
       "</style>\n",
       "<table border=\"1\" class=\"dataframe\">\n",
       "  <thead>\n",
       "    <tr style=\"text-align: right;\">\n",
       "      <th></th>\n",
       "      <th>Before Layout Change</th>\n",
       "      <th>After Layout Change</th>\n",
       "    </tr>\n",
       "  </thead>\n",
       "  <tbody>\n",
       "    <tr>\n",
       "      <th>0</th>\n",
       "      <td>69.206718</td>\n",
       "      <td>78.871085</td>\n",
       "    </tr>\n",
       "    <tr>\n",
       "      <th>1</th>\n",
       "      <td>74.711407</td>\n",
       "      <td>65.198257</td>\n",
       "    </tr>\n",
       "    <tr>\n",
       "      <th>2</th>\n",
       "      <td>60.262622</td>\n",
       "      <td>82.841091</td>\n",
       "    </tr>\n",
       "    <tr>\n",
       "      <th>3</th>\n",
       "      <td>59.358189</td>\n",
       "      <td>71.525173</td>\n",
       "    </tr>\n",
       "    <tr>\n",
       "      <th>4</th>\n",
       "      <td>87.397679</td>\n",
       "      <td>71.153638</td>\n",
       "    </tr>\n",
       "  </tbody>\n",
       "</table>\n",
       "</div>"
      ],
      "text/plain": [
       "   Before Layout Change  After Layout Change\n",
       "0             69.206718            78.871085\n",
       "1             74.711407            65.198257\n",
       "2             60.262622            82.841091\n",
       "3             59.358189            71.525173\n",
       "4             87.397679            71.153638"
      ]
     },
     "execution_count": 30,
     "metadata": {},
     "output_type": "execute_result"
    }
   ],
   "source": [
    "# Inference on the means of two samples\n",
    "# Paired Observations Case\n",
    "\n",
    "n = 20\n",
    "df = pd.DataFrame({\n",
    "    'Before Layout Change': np.random.normal(loc=75, scale=10, size=n),\n",
    "    'After Layout Change': np.random.normal(loc=78, scale=10, size=n)\n",
    "})\n",
    "display(df.head())"
   ]
  },
  {
   "cell_type": "markdown",
   "id": "6753c95d",
   "metadata": {},
   "source": [
    "**Scenario**: A financial analyst examines the variability in expenses between two budgeting periods to assess the impact of fiscal policy changes. Variability can indicate financial control effectiveness or lapses.\n",
    "\n",
    "**Practical Use**: Understanding financial fluctuations and implementing strategic budgeting practices."
   ]
  },
  {
   "cell_type": "code",
   "execution_count": null,
   "id": "d62c8d2a",
   "metadata": {},
   "outputs": [
    {
     "data": {
      "text/html": [
       "<div>\n",
       "<style scoped>\n",
       "    .dataframe tbody tr th:only-of-type {\n",
       "        vertical-align: middle;\n",
       "    }\n",
       "\n",
       "    .dataframe tbody tr th {\n",
       "        vertical-align: top;\n",
       "    }\n",
       "\n",
       "    .dataframe thead th {\n",
       "        text-align: right;\n",
       "    }\n",
       "</style>\n",
       "<table border=\"1\" class=\"dataframe\">\n",
       "  <thead>\n",
       "    <tr style=\"text-align: right;\">\n",
       "      <th></th>\n",
       "      <th>Period 1</th>\n",
       "      <th>Period 2</th>\n",
       "    </tr>\n",
       "  </thead>\n",
       "  <tbody>\n",
       "    <tr>\n",
       "      <th>0</th>\n",
       "      <td>1054.437654</td>\n",
       "      <td>1106.163331</td>\n",
       "    </tr>\n",
       "    <tr>\n",
       "      <th>1</th>\n",
       "      <td>981.756747</td>\n",
       "      <td>1001.071999</td>\n",
       "    </tr>\n",
       "    <tr>\n",
       "      <th>2</th>\n",
       "      <td>781.728279</td>\n",
       "      <td>946.348358</td>\n",
       "    </tr>\n",
       "    <tr>\n",
       "      <th>3</th>\n",
       "      <td>1195.428291</td>\n",
       "      <td>870.393958</td>\n",
       "    </tr>\n",
       "    <tr>\n",
       "      <th>4</th>\n",
       "      <td>1046.048175</td>\n",
       "      <td>911.395148</td>\n",
       "    </tr>\n",
       "  </tbody>\n",
       "</table>\n",
       "</div>"
      ],
      "text/plain": [
       "      Period 1     Period 2\n",
       "0  1054.437654  1106.163331\n",
       "1   981.756747  1001.071999\n",
       "2   781.728279   946.348358\n",
       "3  1195.428291   870.393958\n",
       "4  1046.048175   911.395148"
      ]
     },
     "execution_count": 31,
     "metadata": {},
     "output_type": "execute_result"
    }
   ],
   "source": [
    "# Inference on the variance or standard deviations of two samples\n",
    "\n",
    "n = 50\n",
    "df = pd.DataFrame({\n",
    "    'Period 1': np.random.normal(loc=1000, scale=100, size=n),\n",
    "    'Period 2': np.random.normal(loc=1000, scale=120, size=n)\n",
    "})\n",
    "display(df.head())"
   ]
  }
 ],
 "metadata": {
  "kernelspec": {
   "display_name": "Python_3_11_11",
   "language": "python",
   "name": "python3"
  },
  "language_info": {
   "codemirror_mode": {
    "name": "ipython",
    "version": 3
   },
   "file_extension": ".py",
   "mimetype": "text/x-python",
   "name": "python",
   "nbconvert_exporter": "python",
   "pygments_lexer": "ipython3",
   "version": "3.11.11"
  }
 },
 "nbformat": 4,
 "nbformat_minor": 5
}

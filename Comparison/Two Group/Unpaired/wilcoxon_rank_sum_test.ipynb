{
 "cells": [
  {
   "cell_type": "markdown",
   "id": "c476f9b1",
   "metadata": {},
   "source": [
    "### Wilcoxon Rank Sum Test\n",
    "\n",
    "A comparison of 2 unpaired and non-normally distributed data sets"
   ]
  },
  {
   "cell_type": "code",
   "execution_count": null,
   "id": "7a889fd2",
   "metadata": {},
   "outputs": [],
   "source": []
  }
 ],
 "metadata": {
  "language_info": {
   "name": "python"
  }
 },
 "nbformat": 4,
 "nbformat_minor": 5
}

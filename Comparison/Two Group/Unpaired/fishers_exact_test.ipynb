{
 "cells": [
  {
   "cell_type": "markdown",
   "id": "b3382b5d",
   "metadata": {},
   "source": [
    "### Fisher's Exact Test\n",
    "\n",
    "A comparison of 2 unpaired and dichotomous data sets"
   ]
  },
  {
   "cell_type": "code",
   "execution_count": null,
   "id": "4b4a593a",
   "metadata": {},
   "outputs": [],
   "source": []
  }
 ],
 "metadata": {
  "language_info": {
   "name": "python"
  }
 },
 "nbformat": 4,
 "nbformat_minor": 5
}

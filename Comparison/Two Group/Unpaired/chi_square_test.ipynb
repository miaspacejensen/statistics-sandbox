{
 "cells": [
  {
   "cell_type": "markdown",
   "id": "7e4aed4e",
   "metadata": {},
   "source": [
    "### Chi-square Test\n",
    "\n",
    "A comparison of 2 unpaired and dichotomous data sets"
   ]
  },
  {
   "cell_type": "code",
   "execution_count": null,
   "id": "8041be18",
   "metadata": {},
   "outputs": [],
   "source": []
  }
 ],
 "metadata": {
  "language_info": {
   "name": "python"
  }
 },
 "nbformat": 4,
 "nbformat_minor": 5
}

{
 "cells": [
  {
   "cell_type": "markdown",
   "id": "39fcd8bd",
   "metadata": {},
   "source": [
    "### Mann-Whitney U Test\n",
    "\n",
    "A comparison of 2 unpaired and non-normally distributed data sets"
   ]
  },
  {
   "cell_type": "code",
   "execution_count": null,
   "id": "6b4c1fa8",
   "metadata": {},
   "outputs": [],
   "source": []
  }
 ],
 "metadata": {
  "language_info": {
   "name": "python"
  }
 },
 "nbformat": 4,
 "nbformat_minor": 5
}

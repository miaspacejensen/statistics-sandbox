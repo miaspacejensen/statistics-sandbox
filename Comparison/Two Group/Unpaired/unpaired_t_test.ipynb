{
 "cells": [
  {
   "cell_type": "markdown",
   "id": "05f78e2d",
   "metadata": {},
   "source": [
    "### Unpaired t Test\n",
    "\n",
    "A comparison of 2 unpaired and normally distributed data sets"
   ]
  },
  {
   "cell_type": "code",
   "execution_count": null,
   "id": "cf31140a",
   "metadata": {},
   "outputs": [],
   "source": []
  }
 ],
 "metadata": {
  "language_info": {
   "name": "python"
  }
 },
 "nbformat": 4,
 "nbformat_minor": 5
}

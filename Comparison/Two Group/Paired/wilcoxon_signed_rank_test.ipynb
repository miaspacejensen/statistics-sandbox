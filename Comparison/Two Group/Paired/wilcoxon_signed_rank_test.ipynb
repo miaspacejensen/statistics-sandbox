{
 "cells": [
  {
   "cell_type": "markdown",
   "id": "fba20340",
   "metadata": {},
   "source": [
    "### Wilcoxon Signed-Rank Test\n",
    "\n",
    "A comparison of 2 paired and non-normally distributed data sets"
   ]
  },
  {
   "cell_type": "code",
   "execution_count": null,
   "id": "8981a5bc",
   "metadata": {},
   "outputs": [],
   "source": []
  }
 ],
 "metadata": {
  "language_info": {
   "name": "python"
  }
 },
 "nbformat": 4,
 "nbformat_minor": 5
}

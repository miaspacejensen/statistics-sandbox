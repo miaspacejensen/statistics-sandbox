{
 "cells": [
  {
   "cell_type": "markdown",
   "id": "6baf0356",
   "metadata": {},
   "source": [
    "### Paired t Test\n",
    "\n",
    "A comparison of 2 paired and normally distributed data sets"
   ]
  },
  {
   "cell_type": "code",
   "execution_count": null,
   "id": "52809e57",
   "metadata": {},
   "outputs": [],
   "source": []
  }
 ],
 "metadata": {
  "language_info": {
   "name": "python"
  }
 },
 "nbformat": 4,
 "nbformat_minor": 5
}

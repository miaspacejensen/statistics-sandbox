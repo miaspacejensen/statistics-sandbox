{
 "cells": [
  {
   "cell_type": "markdown",
   "id": "e514d99f",
   "metadata": {},
   "source": [
    "### McNemar's Test\n",
    "\n",
    "A comparison of 2 paired and dichotomous data sets"
   ]
  },
  {
   "cell_type": "code",
   "execution_count": null,
   "id": "cf7eebc8",
   "metadata": {},
   "outputs": [],
   "source": []
  }
 ],
 "metadata": {
  "language_info": {
   "name": "python"
  }
 },
 "nbformat": 4,
 "nbformat_minor": 5
}

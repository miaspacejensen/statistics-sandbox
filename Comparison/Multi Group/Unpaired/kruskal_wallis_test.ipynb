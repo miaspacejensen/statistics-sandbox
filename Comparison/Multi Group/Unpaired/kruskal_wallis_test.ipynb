{
 "cells": [
  {
   "cell_type": "markdown",
   "id": "afc586b8",
   "metadata": {},
   "source": [
    "### Kruskal-Wallis Test\n",
    "\n",
    "A comparison of more than 2 unpaired and non-normally distributed data sets"
   ]
  },
  {
   "cell_type": "code",
   "execution_count": null,
   "id": "8caa079b",
   "metadata": {},
   "outputs": [],
   "source": []
  }
 ],
 "metadata": {
  "language_info": {
   "name": "python"
  }
 },
 "nbformat": 4,
 "nbformat_minor": 5
}

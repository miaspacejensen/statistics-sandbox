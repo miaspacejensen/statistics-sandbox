{
 "cells": [
  {
   "cell_type": "markdown",
   "id": "616ff913",
   "metadata": {},
   "source": [
    "### One way ANOVA\n",
    "\n",
    "A comparison of more than 2 unpaired and normally distributed data sets"
   ]
  },
  {
   "cell_type": "code",
   "execution_count": null,
   "id": "73c79824",
   "metadata": {},
   "outputs": [],
   "source": []
  }
 ],
 "metadata": {
  "language_info": {
   "name": "python"
  }
 },
 "nbformat": 4,
 "nbformat_minor": 5
}

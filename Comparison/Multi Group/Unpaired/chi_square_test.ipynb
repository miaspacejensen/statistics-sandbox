{
 "cells": [
  {
   "cell_type": "markdown",
   "id": "9a09b755",
   "metadata": {},
   "source": [
    "### Chi-square Test\n",
    "\n",
    "A comparison of more than 2 unpaired and dichotomous data sets"
   ]
  },
  {
   "cell_type": "code",
   "execution_count": null,
   "id": "2ad1834e",
   "metadata": {},
   "outputs": [],
   "source": []
  }
 ],
 "metadata": {
  "language_info": {
   "name": "python"
  }
 },
 "nbformat": 4,
 "nbformat_minor": 5
}

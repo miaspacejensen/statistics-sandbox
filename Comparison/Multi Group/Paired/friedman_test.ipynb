{
 "cells": [
  {
   "cell_type": "markdown",
   "id": "d58293c2",
   "metadata": {},
   "source": [
    "### Friedman Test\n",
    "\n",
    "A comparison of more than 2 paired and non-normally distributed data sets"
   ]
  },
  {
   "cell_type": "code",
   "execution_count": null,
   "id": "4905d724",
   "metadata": {},
   "outputs": [],
   "source": []
  }
 ],
 "metadata": {
  "language_info": {
   "name": "python"
  }
 },
 "nbformat": 4,
 "nbformat_minor": 5
}

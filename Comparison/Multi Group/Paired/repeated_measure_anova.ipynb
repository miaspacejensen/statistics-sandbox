{
 "cells": [
  {
   "cell_type": "markdown",
   "id": "20767e87",
   "metadata": {},
   "source": [
    "### Repeated measure ANOVA\n",
    "\n",
    "A comparison of more than 2 paired and normally distributed data sets"
   ]
  },
  {
   "cell_type": "code",
   "execution_count": null,
   "id": "6909ef6f",
   "metadata": {},
   "outputs": [],
   "source": []
  }
 ],
 "metadata": {
  "language_info": {
   "name": "python"
  }
 },
 "nbformat": 4,
 "nbformat_minor": 5
}

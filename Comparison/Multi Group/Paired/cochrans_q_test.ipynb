{
 "cells": [
  {
   "cell_type": "markdown",
   "id": "5cdeb41e",
   "metadata": {},
   "source": [
    "### Cochran's Q Test\n",
    "\n",
    "A comparison of more than 2 paired and dichotomous data sets"
   ]
  },
  {
   "cell_type": "code",
   "execution_count": null,
   "id": "eb0bb0b8",
   "metadata": {
    "vscode": {
     "languageId": "plaintext"
    }
   },
   "outputs": [],
   "source": []
  }
 ],
 "metadata": {
  "language_info": {
   "name": "python"
  }
 },
 "nbformat": 4,
 "nbformat_minor": 5
}
